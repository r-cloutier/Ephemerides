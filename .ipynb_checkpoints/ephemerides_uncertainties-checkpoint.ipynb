{
 "cells": [
  {
   "cell_type": "markdown",
   "metadata": {},
   "source": [
    "## consider the effect of ephemeris uncertainies\n",
    "\n",
    "Many transiting planets discovered with TESS will have their linear ephemerides constrained solely by the TESS data which often spans just 27 days of observations. Some of those planets' ephemerides will have sufficiently high uncertainties that our ability to predict their transits following the JWST launch date severely hindered by those uncertainties. \n",
    "\n",
    "Here I want to show the amplitude of those uncertainties for some planets of interest and for those with particularly uncertain transit times, how follow-up transit detections with MEarth at intermediate times between the intiial detection and the JWST launch, can aleviate those uncertainties. "
   ]
  },
  {
   "cell_type": "code",
   "execution_count": 1,
   "metadata": {},
   "outputs": [
    {
     "name": "stderr",
     "output_type": "stream",
     "text": [
      "\n",
      "Bad key \"xtick.labeltop\" on line 358 in\n",
      "/Users/ryancloutier/.matplotlib/matplotlibrc.\n",
      "You probably need to get an updated matplotlibrc file from\n",
      "http://github.com/matplotlib/matplotlib/blob/master/matplotlibrc.template\n",
      "or from the matplotlib source distribution\n"
     ]
    }
   ],
   "source": [
    "from imports import *\n",
    "from astropy.time import Time\n",
    "%matplotlib inline"
   ]
  },
  {
   "cell_type": "code",
   "execution_count": 11,
   "metadata": {},
   "outputs": [],
   "source": [
    "# plot uncertainty in mid-transit time over time\n",
    "def plot_T0_uncertainty(P, eP, T0, eT0, D_min, title='', label=False):\n",
    "    '''T0 should be in units of BJD - 2,457,000'''\n",
    "    # define time array\n",
    "    t0 = 2457000\n",
    "    P_measured = unp.uarray(P, eP)\n",
    "    T0_measured = unp.uarray(T0, eT0) + t0\n",
    "    T_jwst = 2459303.5\n",
    "    T0_future = T0_measured + np.arange((T_jwst-t0 + 365 - T0) / P) * P_measured\n",
    "    tarr = unp.nominal_values(T0_future)-t0\n",
    "    \n",
    "    # plot uncertainty in mid-transit times over time\n",
    "    plt.figure(figsize=(10,5))\n",
    "    plt.plot(tarr, np.zeros(tarr.size), 'k-')\n",
    "    for i in range(1,3):\n",
    "        plt.fill_between(tarr, -i*unp.std_devs(T0_future)*24, i*unp.std_devs(T0_future)*24, color='k', alpha=.3)\n",
    "    \n",
    "    if np.isfinite(D_min):\n",
    "        D_hrs = D_min/60.\n",
    "        plt.plot(np.repeat(tarr.max(),2), np.arange(-.5,1)*D_hrs, 'k-', lw=3, \n",
    "                 label='Transit duration (%.2f hrs)'%D_hrs)\n",
    "        # if the uncertainty exceeds the transit duration, highlight the time at which that happens\n",
    "        if np.any(2*unp.std_devs(T0_future)[-1]*24 > D_hrs):\n",
    "            g = np.where(abs(2*unp.std_devs(T0_future)*24-D_hrs) == \n",
    "                         np.min(abs(2*unp.std_devs(T0_future)*24-D_hrs)))[0][0]\n",
    "            plt.plot(np.repeat(tarr[g],2), np.arange(-.5,1)*D_hrs, 'k-', lw=3)\n",
    "    \n",
    "    plt.xlabel('Time [BJD - 2,457,000]', fontsize=12)\n",
    "    plt.ylabel('Deviation from MAP ephemeris [hours]', fontsize=12)\n",
    "    plt.title(title)\n",
    "    \n",
    "    # highlight current date\n",
    "    t = Time(time.time(), format='unix')\n",
    "    plt.axvline(t.jd-t0, ls='--', color='r', lw=2, label='today')\n",
    "    \n",
    "    # highlight JWST launch\n",
    "    plt.axvline(T_jwst-t0, ls='--', color='b', lw=3, label='JWST launch date')\n",
    "    plt.axvline(T_jwst+(6*30)-t0, ls='--', color='g', lw=3, label='approximate commencement\\nof GO programs')\n",
    "    plt.legend(loc='upper left')\n",
    "    plt.grid(color='k', alpha=.5)\n",
    "    plt.xlim((tarr.min(),tarr.max()+100))\n",
    "    \n",
    "    # save\n",
    "    if label:\n",
    "        try:\n",
    "            os.mkdir('plots')\n",
    "        except OSError:\n",
    "            pass\n",
    "        plt.savefig('plots/T0uncertainty_%s.png'%title)"
   ]
  },
  {
   "cell_type": "code",
   "execution_count": 12,
   "metadata": {},
   "outputs": [
    {
     "name": "stdout",
     "output_type": "stream",
     "text": [
      "0.06924057518211427 142.81897310222647\n"
     ]
    }
   ],
   "source": [
    "# TEMP to compute transit durations\n",
    "P, Ms, Rs, rp, inc, aRs = 6.34, 0.6253, 0.5892, 1.97, 89.81, 20.88\n",
    "b = np.cos(np.deg2rad(inc))*aRs\n",
    "print b, rvs.transit_width(P, Ms, Rs, rp, b)*24*60"
   ]
  },
  {
   "cell_type": "code",
   "execution_count": 16,
   "metadata": {},
   "outputs": [],
   "source": [
    "# consider some planets with P, eP, T0-2,457,000, eT0, & T14\n",
    "custom_planets = 0\n",
    "\n",
    "if custom_planets:\n",
    "    planets_dict = {'TOI-134.01': (1.4013, 0.0001, 1345.6507, 0.001, 85.43676294278201),\n",
    "                    'K2-18 b': (32.93962, 1e-4, 264.39142, 6.4e-4, 159.78),\n",
    "                    'LHS 1140 c': (3.77793, 3e-6, 1226.84316, .000026, 67.87208449699301),\n",
    "                    'LHS 1140 b': (24.736959, 8e-5, -84.28846, 4e-5, 127.45747350107494),\n",
    "                    'TOI-226.01': (20.2833, .0048, 1378.7855, .0042, 139.14240247130687),\n",
    "                    'OI-278661431.01': (17.6317, 0.0048, 1343.9299, 0.0025, 134.27814579036573),\n",
    "                    'OI-441056702.01': (6.3424, 0.0093, 1371.8111, 0.0055, 142.81897310222647)}\n",
    "\n",
    "# get all TOIs    \n",
    "else:\n",
    "    d = np.genfromtxt('/Users/ryancloutier/Research/MEarthEphemerides/input_data/toi-2019-02-26.csv', delimiter=',',\n",
    "                     usecols=(1,2,6,8,9,10,11,12))\n",
    "    tics,tois,Tmag,T0s,eT0s,Ps,ePs,Ds = d.T\n",
    "    planets_dict = {}\n",
    "    for i in range(tics.size):\n",
    "        if np.all(np.isfinite(d[i])):\n",
    "            planets_dict['TOI-%s'%tois[i]] = (Ps[i], ePs[i], T0s[i], eT0s[i], Ds[i]*60)"
   ]
  },
  {
   "cell_type": "code",
   "execution_count": null,
   "metadata": {
    "scrolled": false
   },
   "outputs": [],
   "source": [
    "# plots\n",
    "for p in planets_dict:\n",
    "    plot_T0_uncertainty(*planets_dict[p], title=p, label=True)"
   ]
  },
  {
   "cell_type": "code",
   "execution_count": null,
   "metadata": {
    "collapsed": true
   },
   "outputs": [],
   "source": []
  }
 ],
 "metadata": {
  "kernelspec": {
   "display_name": "Python [default]",
   "language": "python",
   "name": "python2"
  },
  "language_info": {
   "codemirror_mode": {
    "name": "ipython",
    "version": 2
   },
   "file_extension": ".py",
   "mimetype": "text/x-python",
   "name": "python",
   "nbconvert_exporter": "python",
   "pygments_lexer": "ipython2",
   "version": "2.7.13"
  }
 },
 "nbformat": 4,
 "nbformat_minor": 2
}
